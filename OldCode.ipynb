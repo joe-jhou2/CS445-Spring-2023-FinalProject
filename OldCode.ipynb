{
  "nbformat": 4,
  "nbformat_minor": 0,
  "metadata": {
    "colab": {
      "provenance": []
    },
    "kernelspec": {
      "name": "python3",
      "display_name": "Python 3"
    },
    "language_info": {
      "name": "python"
    }
  },
  "cells": [
    {
      "cell_type": "code",
      "source": [
        "# import zipfile\n",
        "\n",
        "# with zipfile.ZipFile('/content/sketchdata.zip', 'r') as ref:\n",
        "#   ref.extractall('/content/sketchdata')"
      ],
      "metadata": {
        "id": "qCjjNNLxKDIE"
      },
      "execution_count": null,
      "outputs": []
    },
    {
      "cell_type": "code",
      "execution_count": 1,
      "metadata": {
        "id": "4-pjzBlUJcYb"
      },
      "outputs": [],
      "source": [
        "import os\n",
        "import torch\n",
        "import torch.optim as optim\n",
        "import torch.nn as nn\n",
        "import torch.nn.functional as F\n",
        "import torchvision.models as models\n",
        "from torch.utils.data import DataLoader, TensorDataset\n",
        "from torchvision.transforms import transforms\n",
        "from PIL import Image\n",
        "import random\n",
        "import urllib.request\n",
        "import numpy as np\n",
        "import cv2"
      ]
    },
    {
      "cell_type": "code",
      "source": [
        "# Set the path to the folder containing the images\n",
        "img_folder = '/content/photos/'\n",
        "\n",
        "# Get a list of all the image files in the folder\n",
        "image_files = [os.path.join(img_folder, f) for f in os.listdir(img_folder) if os.path.isfile(os.path.join(img_folder, f)) and f.endswith('.jpg')]\n",
        "\n",
        "# print(image_files)"
      ],
      "metadata": {
        "id": "IBRc1riN6VD-",
        "colab": {
          "base_uri": "https://localhost:8080/",
          "height": 241
        },
        "outputId": "a1762151-9880-4863-db22-9d402ce18b63"
      },
      "execution_count": 2,
      "outputs": [
        {
          "output_type": "error",
          "ename": "FileNotFoundError",
          "evalue": "ignored",
          "traceback": [
            "\u001b[0;31m---------------------------------------------------------------------------\u001b[0m",
            "\u001b[0;31mFileNotFoundError\u001b[0m                         Traceback (most recent call last)",
            "\u001b[0;32m<ipython-input-2-60708bc60077>\u001b[0m in \u001b[0;36m<cell line: 5>\u001b[0;34m()\u001b[0m\n\u001b[1;32m      3\u001b[0m \u001b[0;34m\u001b[0m\u001b[0m\n\u001b[1;32m      4\u001b[0m \u001b[0;31m# Get a list of all the image files in the folder\u001b[0m\u001b[0;34m\u001b[0m\u001b[0;34m\u001b[0m\u001b[0m\n\u001b[0;32m----> 5\u001b[0;31m \u001b[0mimage_files\u001b[0m \u001b[0;34m=\u001b[0m \u001b[0;34m[\u001b[0m\u001b[0mos\u001b[0m\u001b[0;34m.\u001b[0m\u001b[0mpath\u001b[0m\u001b[0;34m.\u001b[0m\u001b[0mjoin\u001b[0m\u001b[0;34m(\u001b[0m\u001b[0mimg_folder\u001b[0m\u001b[0;34m,\u001b[0m \u001b[0mf\u001b[0m\u001b[0;34m)\u001b[0m \u001b[0;32mfor\u001b[0m \u001b[0mf\u001b[0m \u001b[0;32min\u001b[0m \u001b[0mos\u001b[0m\u001b[0;34m.\u001b[0m\u001b[0mlistdir\u001b[0m\u001b[0;34m(\u001b[0m\u001b[0mimg_folder\u001b[0m\u001b[0;34m)\u001b[0m \u001b[0;32mif\u001b[0m \u001b[0mos\u001b[0m\u001b[0;34m.\u001b[0m\u001b[0mpath\u001b[0m\u001b[0;34m.\u001b[0m\u001b[0misfile\u001b[0m\u001b[0;34m(\u001b[0m\u001b[0mos\u001b[0m\u001b[0;34m.\u001b[0m\u001b[0mpath\u001b[0m\u001b[0;34m.\u001b[0m\u001b[0mjoin\u001b[0m\u001b[0;34m(\u001b[0m\u001b[0mimg_folder\u001b[0m\u001b[0;34m,\u001b[0m \u001b[0mf\u001b[0m\u001b[0;34m)\u001b[0m\u001b[0;34m)\u001b[0m \u001b[0;32mand\u001b[0m \u001b[0mf\u001b[0m\u001b[0;34m.\u001b[0m\u001b[0mendswith\u001b[0m\u001b[0;34m(\u001b[0m\u001b[0;34m'.jpg'\u001b[0m\u001b[0;34m)\u001b[0m\u001b[0;34m]\u001b[0m\u001b[0;34m\u001b[0m\u001b[0;34m\u001b[0m\u001b[0m\n\u001b[0m\u001b[1;32m      6\u001b[0m \u001b[0;34m\u001b[0m\u001b[0m\n\u001b[1;32m      7\u001b[0m \u001b[0;31m# print(image_files)\u001b[0m\u001b[0;34m\u001b[0m\u001b[0;34m\u001b[0m\u001b[0m\n",
            "\u001b[0;31mFileNotFoundError\u001b[0m: [Errno 2] No such file or directory: '/content/photos/'"
          ]
        }
      ]
    },
    {
      "cell_type": "code",
      "source": [
        "# Shuffle the image files randomly\n",
        "random.shuffle(image_files)\n",
        "\n",
        "# Set the split ratio\n",
        "train_ratio = 0.7  # 70% of the images for training\n",
        "valid_ratio = 0.3  # 30% of the images for validation\n",
        "\n",
        "# Calculate the number of images for each set\n",
        "num_train = int(len(image_files) * train_ratio)\n",
        "num_valid = len(image_files) - num_train\n",
        "\n",
        "# Read the images into memory\n",
        "train_images = []\n",
        "train_labels = []\n",
        "valid_images = []\n",
        "valid_labels = []\n",
        "\n",
        "for i, image_file in enumerate(image_files):\n",
        "    # Load the image and convert it to grayscale\n",
        "    image = cv2.imread(image_file)\n",
        "    image = cv2.cvtColor(image, cv2.COLOR_BGR2GRAY)\n",
        "    \n",
        "    # Split the filename to get the label\n",
        "    label = os.path.basename(image_file).split('-')[0]\n",
        "    \n",
        "    # Add the image and label to the appropriate set\n",
        "    if i < num_train:\n",
        "        train_images.append(image)\n",
        "        train_labels.append(label)\n",
        "    else:\n",
        "        valid_images.append(image)\n",
        "        valid_labels.append(label)\n",
        "\n",
        "# Convert the image and label lists to NumPy arrays\n",
        "train_images = np.array(train_images)\n",
        "train_labels = np.array(train_labels)\n",
        "valid_images = np.array(valid_images)\n",
        "valid_labels = np.array(valid_labels)\n",
        "\n",
        "# Print some statistics\n",
        "print('Number of training images:', len(train_images))\n",
        "print('Number of validation images:', len(valid_images))\n",
        "print('Shape of a training image:', train_images[0].shape)\n"
      ],
      "metadata": {
        "id": "WWB2eMV0_R5P"
      },
      "execution_count": null,
      "outputs": []
    },
    {
      "cell_type": "code",
      "source": [
        "# Convert the image and label lists to NumPy arrays\n",
        "train_images = np.array(train_images)\n",
        "train_labels = np.array(train_labels)\n",
        "valid_images = np.array(valid_images)\n",
        "valid_labels = np.array(valid_labels)\n",
        "\n",
        "# Print some statistics\n",
        "# print('Number of training images:', len(train_images))\n",
        "# print('Number of validation images:', len(valid_images))\n",
        "# print('Shape of a training image:', train_images[0].shape)\n",
        "\n",
        "# Define hyperparameters\n",
        "batch_size = 32\n",
        "learning_rate = 0.0002\n",
        "num_epochs = 50\n",
        "\n",
        "# Convert the image and label lists to PyTorch tensors\n",
        "train_images = torch.from_numpy(train_images).unsqueeze(1).float()\n",
        "train_labels = torch.from_numpy(train_labels).long()\n",
        "valid_images = torch.from_numpy(valid_images).unsqueeze(1).float()\n",
        "valid_labels = torch.from_numpy(valid_labels).long()\n",
        "\n",
        "# Create TensorDataset objects for the training and validation sets\n",
        "train_dataset = TensorDataset(train_images, train_labels)\n",
        "valid_dataset = TensorDataset(valid_images, valid_labels)\n",
        "\n",
        "# Create DataLoader objects for the training and validation sets\n",
        "train_loader = DataLoader(train_dataset, batch_size=batch_size, shuffle=True)\n",
        "valid_loader = DataLoader(valid_dataset, batch_size=batch_size, shuffle=False)"
      ],
      "metadata": {
        "id": "U4GHieopxfAi"
      },
      "execution_count": null,
      "outputs": []
    },
    {
      "cell_type": "code",
      "source": [
        "class GANLoss(nn.Module):\n",
        "        def __init__(self, use_lsgan=True, target_real_label=1.0, target_fake_label=0.0):\n",
        "            super(GANLoss, self).__init__()\n",
        "            self.fake_label_var = None\n",
        "            self.real_label_var = None\n",
        "            self.real_label = target_real_label\n",
        "            self.fake_label = target_fake_label\n",
        "            self.Tensor = torch.cuda.FloatTensor if torch.cuda.is_available() else torch.FloatTensor\n",
        "            if use_lsgan:\n",
        "                self.loss = nn.MSELoss()\n",
        "            else:\n",
        "                self.loss = nn.BCEWithLogitsLoss()\n",
        "\n",
        "        def get_target_tensor(self, input_img, target_is_real):\n",
        "            target_tensor = None\n",
        "            if target_is_real:\n",
        "                create_label = ((self.real_label_var is None) or\n",
        "                                (self.real_label_var.numel() != input_img.numel()))\n",
        "                if create_label:\n",
        "                    real_tensor = self.Tensor(input_img.size()).fill_(self.real_label)\n",
        "                    self.real_label_var = nn.Parameter(real_tensor, requires_grad=False)\n",
        "                target_tensor = self.real_label_var\n",
        "            else:\n",
        "                create_label = ((self.fake_label_var is None) or\n",
        "                                (self.fake_label_var.numel() != input_img.numel()))\n",
        "                if create_label:\n",
        "                    fake_tensor = self.Tensor(input_img.size()).fill_(self.fake_label)\n",
        "                    self.fake_label_var = nn.Parameter(fake_tensor, requires_grad=False)\n",
        "                target_tensor = self.fake_label_var\n",
        "            return target_tensor\n",
        "\n",
        "        def forward(self, input_img, target_is_real):\n",
        "            target_tensor = self.get_target_tensor(input_img, target_is_real)\n",
        "            return self.loss(input_img, target_tensor.expand_as(input_img))"
      ],
      "metadata": {
        "id": "PsXjTo8xxi_P"
      },
      "execution_count": null,
      "outputs": []
    },
    {
      "cell_type": "code",
      "source": [
        "class PerceptualLoss(nn.Module):\n",
        "        def __init__(self, layers, weights, cuda):\n",
        "            super(PerceptualLoss, self).__init__()\n",
        "            self.layers = layers\n",
        "            self.weights = weights\n",
        "            self.vgg = models.VGG19(pretrained=True).features\n",
        "            if cuda:\n",
        "                self.vgg = self.vgg.cuda()\n",
        "            for param in self.vgg.parameters():\n",
        "                param.requires_grad = False\n",
        "\n",
        "        def forward(self, x, y):\n",
        "            x_vgg, y_vgg = self.vgg(x), self.vgg(y)\n",
        "            loss = 0\n",
        "            for i, layer in enumerate(self.layers):\n",
        "                loss += self.weights[i] * F.l1_loss(x_vgg[layer], y_vgg[layer])\n",
        "            return loss"
      ],
      "metadata": {
        "id": "IBMK9WLNxm1t"
      },
      "execution_count": null,
      "outputs": []
    },
    {
      "cell_type": "code",
      "source": [
        "  class CycleConsistencyLoss(nn.Module):\n",
        "        def __init__(self):\n",
        "            super(CycleConsistencyLoss, self).__init__()\n",
        "\n",
        "        def forward(self, x, y, x_recon, y_recon):\n",
        "            return F.l1_loss(x, x_recon) + F.l1_loss(y, y_recon)"
      ],
      "metadata": {
        "id": "jyf3J01JxpSE"
      },
      "execution_count": null,
      "outputs": []
    },
    {
      "cell_type": "code",
      "source": [
        "class IdentityLoss(nn.Module):\n",
        "        def __init__(self):\n",
        "            super(IdentityLoss, self).__init__()\n",
        "\n",
        "        def forward(self, x, y):\n",
        "            return F.l1_loss(x, y)"
      ],
      "metadata": {
        "id": "WHadW7B-xtsg"
      },
      "execution_count": null,
      "outputs": []
    },
    {
      "cell_type": "code",
      "source": [
        "class PatchLoss(nn.Module):\n",
        "        def __init__(self):\n",
        "            super(PatchLoss, self).__init__()\n",
        "            self.loss = nn.L1Loss()\n",
        "\n",
        "        def get_masked_images(self, input, gt, gtsegmap, label):\n",
        "            i, j = np.where(gtsegmap == label)\n",
        "            mask = torch.zeros_like(gtsegmap, dtype=torch.float32)\n",
        "            mask[i, j] = 1.0\n",
        "            input_m = input * mask.cuda()\n",
        "            gt_m = gt * mask.cuda()\n",
        "            return input_m, gt_m\n",
        "\n",
        "        def forward(self, input, gt, gtsegmap, label):\n",
        "            gtsegmap = (gtsegmap + 1) * 5.0\n",
        "            input_m, gt_m = self.get_masked_images(input, gt, gtsegmap, label)\n",
        "            gt_m = gt_m.detach()\n",
        "            return self.loss(input_m, gt_m)"
      ],
      "metadata": {
        "id": "KXaigbgwxwE4"
      },
      "execution_count": null,
      "outputs": []
    },
    {
      "cell_type": "code",
      "source": [
        "class FeatureMatchingLoss(nn.Module):\n",
        "        def __init__(self, device):\n",
        "            super(FeatureMatchingLoss, self).__init__()\n",
        "            self.vgg = VGGNet().to(device)\n",
        "            self.criterion = nn.L1Loss()\n",
        "\n",
        "        def forward(self, real_img, fake_img, D):\n",
        "            # Extract features from intermediate layers of the VGG network\n",
        "            real_features = self.vgg(real_img, D)\n",
        "            fake_features = self.vgg(fake_img, D)\n",
        "\n",
        "            # Calculate the L1 loss between the real and fake features\n",
        "            loss = 0\n",
        "            for i in range(len(real_features)):\n",
        "                loss += self.criterion(real_features[i], fake_features[i].detach())\n",
        "\n",
        "            return loss\n",
        "\n",
        "class VGGNet(nn.Module):\n",
        "        def __init__(self):\n",
        "            super(VGGNet, self).__init__()\n",
        "            self.layer1 = nn.Sequential(\n",
        "                nn.Conv2d(3, 64, kernel_size=3, padding=1),\n",
        "                nn.ReLU(),\n",
        "                nn.Conv2d(64, 64, kernel_size=3, padding=1),\n",
        "                nn.ReLU(),\n",
        "                nn.MaxPool2d(kernel_size=2, stride=2))\n",
        "            self.layer2 = nn.Sequential(\n",
        "                nn.Conv2d(64, 128, kernel_size=3, padding=1),\n",
        "                nn.ReLU(),\n",
        "                nn.Conv2d(128, 128, kernel_size=3, padding=1),\n",
        "                nn.ReLU(),\n",
        "                nn.MaxPool2d(kernel_size=2, stride=2))\n",
        "            self.layer3 = nn.Sequential(\n",
        "                nn.Conv2d(128, 256, kernel_size=3, padding=1),\n",
        "                nn.ReLU(),\n",
        "                nn.Conv2d(256, 256, kernel_size=3, padding=1),\n",
        "                nn.ReLU(),\n",
        "                nn.Conv2d(256, 256, kernel_size=3, padding=1),\n",
        "                nn.ReLU(),\n",
        "                nn.MaxPool2d(kernel_size=2, stride=2))\n",
        "            self.layer4 = nn.Sequential(\n",
        "                nn.Conv2d(256, 512, kernel_size=3, padding=1),\n",
        "                nn.ReLU(),\n",
        "                nn.Conv2d(512, 512, kernel_size=3, padding=1),\n",
        "                nn.ReLU(),\n",
        "                nn.Conv2d(512, 512, kernel_size=3, padding=1),\n",
        "                nn.ReLU(),\n",
        "                nn.MaxPool2d(kernel_size=2, stride=2))\n",
        "            self.layer5 = nn.Sequential(\n",
        "                nn.Conv2d(512, 512, kernel_size=3, padding=1),\n",
        "                nn.ReLU(),\n",
        "                nn.Conv2d(512, 512, kernel_size=3, padding=1),\n",
        "                nn.ReLU(),\n",
        "                nn.Conv2d(512, 512, kernel_size=3, padding=1),\n",
        "                nn.ReLU(),\n",
        "                nn.MaxPool2d(kernel_size=2, stride=2))\n",
        "            self.layer6 = nn.Sequential(\n",
        "                nn.Linear(25088, 4096),\n",
        "                nn.ReLU(),\n",
        "                nn.Dropout(),\n",
        "                nn.Linear(4096, 4096),\n",
        "                nn.ReLU(),\n",
        "                nn.Dropout(),\n",
        "                nn.Linear(4096, 1000),\n",
        "                nn.ReLU())\n",
        "\n",
        "        def forward(self, x, D):\n",
        "            if D == 0:\n",
        "                x = self.layer1(x)\n",
        "                x = self.layer2(x)\n",
        "                x = self.layer3(x)\n",
        "                x = self.layer4(x)\n",
        "                x = self.layer5(x)\n",
        "            else:\n",
        "                for i in range(D):\n",
        "                    x = getattr(self, 'layer{}'.format(i + 1))(x)\n",
        "            x = x.view(x.size(0), -1)\n",
        "            x = self.layer6(x)\n",
        "            return x"
      ],
      "metadata": {
        "id": "NTryWGtwxyu2"
      },
      "execution_count": null,
      "outputs": []
    },
    {
      "cell_type": "code",
      "source": [
        "# transform images to the same sizes\n",
        "# transform = transforms.Compose([transforms.RandomResizedCrop(size = (224, 224)),\n",
        "#                                 transforms.ToTensor()])"
      ],
      "metadata": {
        "id": "5yo2hyjbftcG"
      },
      "execution_count": null,
      "outputs": []
    },
    {
      "cell_type": "code",
      "source": [
        "# Initialize an empty list to store the images\n",
        "image_dir = '/content/sketchdata/photo'\n",
        "sketch_dir = '/content/sketchdata/original_sketch'\n",
        "\n",
        "images = []\n",
        "for file_name in os.listdir(image_dir):\n",
        "    if file_name.endswith('.png') or file_name.endswith('.jpg'):\n",
        "        image = Image.open(os.path.join(image_dir, file_name))\n",
        "        image = transform(image)\n",
        "        images.append(image)\n",
        "\n",
        "sketches = []\n",
        "for file_name in os.listdir(sketch_dir):\n",
        "    if file_name.endswith('.png') or file_name.endswith('.jpg'):\n",
        "        image = Image.open(os.path.join(sketch_dir, file_name))\n",
        "        image = transform(image)\n",
        "        sketches.append(image)\n",
        "\n",
        "images_tensor = torch.stack(images)\n",
        "sketches_tensor = torch.stack(sketches)"
      ],
      "metadata": {
        "id": "zjWzKouTe0bO",
        "colab": {
          "base_uri": "https://localhost:8080/",
          "height": 245
        },
        "outputId": "3b8703fe-1aeb-453f-92d3-50281cef549f"
      },
      "execution_count": null,
      "outputs": [
        {
          "output_type": "error",
          "ename": "FileNotFoundError",
          "evalue": "ignored",
          "traceback": [
            "\u001b[0;31m---------------------------------------------------------------------------\u001b[0m",
            "\u001b[0;31mFileNotFoundError\u001b[0m                         Traceback (most recent call last)",
            "\u001b[0;32m<ipython-input-38-e1e63852e893>\u001b[0m in \u001b[0;36m<cell line: 6>\u001b[0;34m()\u001b[0m\n\u001b[1;32m      4\u001b[0m \u001b[0;34m\u001b[0m\u001b[0m\n\u001b[1;32m      5\u001b[0m \u001b[0mimages\u001b[0m \u001b[0;34m=\u001b[0m \u001b[0;34m[\u001b[0m\u001b[0;34m]\u001b[0m\u001b[0;34m\u001b[0m\u001b[0;34m\u001b[0m\u001b[0m\n\u001b[0;32m----> 6\u001b[0;31m \u001b[0;32mfor\u001b[0m \u001b[0mfile_name\u001b[0m \u001b[0;32min\u001b[0m \u001b[0mos\u001b[0m\u001b[0;34m.\u001b[0m\u001b[0mlistdir\u001b[0m\u001b[0;34m(\u001b[0m\u001b[0mimage_dir\u001b[0m\u001b[0;34m)\u001b[0m\u001b[0;34m:\u001b[0m\u001b[0;34m\u001b[0m\u001b[0;34m\u001b[0m\u001b[0m\n\u001b[0m\u001b[1;32m      7\u001b[0m     \u001b[0;32mif\u001b[0m \u001b[0mfile_name\u001b[0m\u001b[0;34m.\u001b[0m\u001b[0mendswith\u001b[0m\u001b[0;34m(\u001b[0m\u001b[0;34m'.png'\u001b[0m\u001b[0;34m)\u001b[0m \u001b[0;32mor\u001b[0m \u001b[0mfile_name\u001b[0m\u001b[0;34m.\u001b[0m\u001b[0mendswith\u001b[0m\u001b[0;34m(\u001b[0m\u001b[0;34m'.jpg'\u001b[0m\u001b[0;34m)\u001b[0m\u001b[0;34m:\u001b[0m\u001b[0;34m\u001b[0m\u001b[0;34m\u001b[0m\u001b[0m\n\u001b[1;32m      8\u001b[0m         \u001b[0mimage\u001b[0m \u001b[0;34m=\u001b[0m \u001b[0mImage\u001b[0m\u001b[0;34m.\u001b[0m\u001b[0mopen\u001b[0m\u001b[0;34m(\u001b[0m\u001b[0mos\u001b[0m\u001b[0;34m.\u001b[0m\u001b[0mpath\u001b[0m\u001b[0;34m.\u001b[0m\u001b[0mjoin\u001b[0m\u001b[0;34m(\u001b[0m\u001b[0mimage_dir\u001b[0m\u001b[0;34m,\u001b[0m \u001b[0mfile_name\u001b[0m\u001b[0;34m)\u001b[0m\u001b[0;34m)\u001b[0m\u001b[0;34m\u001b[0m\u001b[0;34m\u001b[0m\u001b[0m\n",
            "\u001b[0;31mFileNotFoundError\u001b[0m: [Errno 2] No such file or directory: '/content/sketchdata/photo'"
          ]
        }
      ]
    },
    {
      "cell_type": "code",
      "source": [
        "# # load images in\n",
        "# class Data(Dataset):\n",
        "#   def __init__(self, x): #, y):\n",
        "#     self.x = x\n",
        "#     # self.y = y\n",
        "\n",
        "#   def __len__(self):\n",
        "#     return len(self.x)\n",
        "  \n",
        "#   def __getitem__(self, index):\n",
        "#     # transform images to the same sizes\n",
        "#     transform = transforms.Compose([transforms.RandomResizedCrop(size = (224, 224)), transforms.ToTensor()])\n",
        "#     image = self.x[index]\n",
        "#     return transform(image)"
      ],
      "metadata": {
        "id": "uWeai4aaQHYE"
      },
      "execution_count": null,
      "outputs": []
    },
    {
      "cell_type": "code",
      "source": [
        "# Now load in eachdataset with the  dataloaders\n",
        "def load_data(images_tensor=images_tensor, sketches_tensor=sketches_tensor):\n",
        "  batch_size = 64\n",
        "  # images_transformed = Data(images_tensor)\n",
        "  # sketches_transformed = Data(sketches_tensor)\n",
        "  \n",
        "  images_loader = DataLoader(images_tensor, batch_size, shuffle=True, num_workers=2, pin_memory=True)\n",
        "  sketches_loader = DataLoader(sketches_tensor, batch_size, shuffle=True, num_workers=2, pin_memory=True)\n",
        "\n",
        "  return images_loader, sketches_loader"
      ],
      "metadata": {
        "id": "MfJwQ208fR1K"
      },
      "execution_count": null,
      "outputs": []
    },
    {
      "cell_type": "code",
      "source": [
        "plt.imshow(images_loader[0])"
      ],
      "metadata": {
        "colab": {
          "base_uri": "https://localhost:8080/",
          "height": 166
        },
        "id": "UtTjurfSpL-p",
        "outputId": "ad84d140-8bb4-400e-b1ee-2d769b44dea2"
      },
      "execution_count": null,
      "outputs": [
        {
          "output_type": "error",
          "ename": "TypeError",
          "evalue": "ignored",
          "traceback": [
            "\u001b[0;31m---------------------------------------------------------------------------\u001b[0m",
            "\u001b[0;31mTypeError\u001b[0m                                 Traceback (most recent call last)",
            "\u001b[0;32m<ipython-input-30-c855bc8cecb5>\u001b[0m in \u001b[0;36m<cell line: 1>\u001b[0;34m()\u001b[0m\n\u001b[0;32m----> 1\u001b[0;31m \u001b[0mplt\u001b[0m\u001b[0;34m.\u001b[0m\u001b[0mimshow\u001b[0m\u001b[0;34m(\u001b[0m\u001b[0mimages_loader\u001b[0m\u001b[0;34m[\u001b[0m\u001b[0;36m0\u001b[0m\u001b[0;34m]\u001b[0m\u001b[0;34m)\u001b[0m\u001b[0;34m\u001b[0m\u001b[0;34m\u001b[0m\u001b[0m\n\u001b[0m",
            "\u001b[0;31mTypeError\u001b[0m: 'DataLoader' object is not subscriptable"
          ]
        }
      ]
    },
    {
      "cell_type": "code",
      "source": [
        "# show the images\n",
        "import numpy as np\n",
        "import matplotlib.pyplot as plt\n",
        "from torchvision.utils import make_grid\n",
        "\n",
        "def imshow(img, title=None):\n",
        "    npimg = img.numpy()\n",
        "    plt.figure(figsize=(15, 7))\n",
        "    plt.axis('off')\n",
        "    plt.imshow(np.transpose(npimg, (1, 2, 0)))\n",
        "    plt.title(title)\n",
        "    plt.show()\n",
        "\n",
        "def show_batch_images(dataloader, k=2):\n",
        "    images = next(iter(dataloader))\n",
        "    images = images[:k]\n",
        "    # labels = labels[:k]\n",
        "    img = make_grid(images) #, padding=25)\n",
        "    imshow(img) #, title=labels)\n",
        "\n",
        "images_loader, sketches_loader = load_data()\n",
        "for i in range(2):\n",
        "    show_batch_images(images_loader)"
      ],
      "metadata": {
        "colab": {
          "base_uri": "https://localhost:8080/",
          "height": 905
        },
        "id": "cphwYvnPgwIR",
        "outputId": "15342040-9932-4c50-fe0e-5194e9b87ac9"
      },
      "execution_count": null,
      "outputs": [
        {
          "output_type": "error",
          "ename": "TypeError",
          "evalue": "ignored",
          "traceback": [
            "\u001b[0;31m---------------------------------------------------------------------------\u001b[0m",
            "\u001b[0;31mTypeError\u001b[0m                                 Traceback (most recent call last)",
            "\u001b[0;32m<ipython-input-28-5c12d11b09b9>\u001b[0m in \u001b[0;36m<cell line: 22>\u001b[0;34m()\u001b[0m\n\u001b[1;32m     21\u001b[0m \u001b[0mimages_loader\u001b[0m\u001b[0;34m,\u001b[0m \u001b[0msketches_loader\u001b[0m \u001b[0;34m=\u001b[0m \u001b[0mload_data\u001b[0m\u001b[0;34m(\u001b[0m\u001b[0;34m)\u001b[0m\u001b[0;34m\u001b[0m\u001b[0;34m\u001b[0m\u001b[0m\n\u001b[1;32m     22\u001b[0m \u001b[0;32mfor\u001b[0m \u001b[0mi\u001b[0m \u001b[0;32min\u001b[0m \u001b[0mrange\u001b[0m\u001b[0;34m(\u001b[0m\u001b[0;36m2\u001b[0m\u001b[0;34m)\u001b[0m\u001b[0;34m:\u001b[0m\u001b[0;34m\u001b[0m\u001b[0;34m\u001b[0m\u001b[0m\n\u001b[0;32m---> 23\u001b[0;31m     \u001b[0mshow_batch_images\u001b[0m\u001b[0;34m(\u001b[0m\u001b[0mimages_loader\u001b[0m\u001b[0;34m)\u001b[0m\u001b[0;34m\u001b[0m\u001b[0;34m\u001b[0m\u001b[0m\n\u001b[0m",
            "\u001b[0;32m<ipython-input-28-5c12d11b09b9>\u001b[0m in \u001b[0;36mshow_batch_images\u001b[0;34m(dataloader, k)\u001b[0m\n\u001b[1;32m     17\u001b[0m     \u001b[0;31m# labels = labels[:k]\u001b[0m\u001b[0;34m\u001b[0m\u001b[0;34m\u001b[0m\u001b[0m\n\u001b[1;32m     18\u001b[0m     \u001b[0mimg\u001b[0m \u001b[0;34m=\u001b[0m \u001b[0mmake_grid\u001b[0m\u001b[0;34m(\u001b[0m\u001b[0mimages\u001b[0m\u001b[0;34m)\u001b[0m \u001b[0;31m#, padding=25)\u001b[0m\u001b[0;34m\u001b[0m\u001b[0;34m\u001b[0m\u001b[0m\n\u001b[0;32m---> 19\u001b[0;31m     \u001b[0mimshow\u001b[0m\u001b[0;34m(\u001b[0m\u001b[0mimg\u001b[0m\u001b[0;34m)\u001b[0m \u001b[0;31m#, title=labels)\u001b[0m\u001b[0;34m\u001b[0m\u001b[0;34m\u001b[0m\u001b[0m\n\u001b[0m\u001b[1;32m     20\u001b[0m \u001b[0;34m\u001b[0m\u001b[0m\n\u001b[1;32m     21\u001b[0m \u001b[0mimages_loader\u001b[0m\u001b[0;34m,\u001b[0m \u001b[0msketches_loader\u001b[0m \u001b[0;34m=\u001b[0m \u001b[0mload_data\u001b[0m\u001b[0;34m(\u001b[0m\u001b[0;34m)\u001b[0m\u001b[0;34m\u001b[0m\u001b[0;34m\u001b[0m\u001b[0m\n",
            "\u001b[0;32m<ipython-input-28-5c12d11b09b9>\u001b[0m in \u001b[0;36mimshow\u001b[0;34m(img, title)\u001b[0m\n\u001b[1;32m      8\u001b[0m     \u001b[0mplt\u001b[0m\u001b[0;34m.\u001b[0m\u001b[0mfigure\u001b[0m\u001b[0;34m(\u001b[0m\u001b[0mfigsize\u001b[0m\u001b[0;34m=\u001b[0m\u001b[0;34m(\u001b[0m\u001b[0;36m15\u001b[0m\u001b[0;34m,\u001b[0m \u001b[0;36m7\u001b[0m\u001b[0;34m)\u001b[0m\u001b[0;34m)\u001b[0m\u001b[0;34m\u001b[0m\u001b[0;34m\u001b[0m\u001b[0m\n\u001b[1;32m      9\u001b[0m     \u001b[0mplt\u001b[0m\u001b[0;34m.\u001b[0m\u001b[0maxis\u001b[0m\u001b[0;34m(\u001b[0m\u001b[0;34m'off'\u001b[0m\u001b[0;34m)\u001b[0m\u001b[0;34m\u001b[0m\u001b[0;34m\u001b[0m\u001b[0m\n\u001b[0;32m---> 10\u001b[0;31m     \u001b[0mplt\u001b[0m\u001b[0;34m.\u001b[0m\u001b[0mimshow\u001b[0m\u001b[0;34m(\u001b[0m\u001b[0mnpimg\u001b[0m\u001b[0;34m)\u001b[0m\u001b[0;34m\u001b[0m\u001b[0;34m\u001b[0m\u001b[0m\n\u001b[0m\u001b[1;32m     11\u001b[0m     \u001b[0mplt\u001b[0m\u001b[0;34m.\u001b[0m\u001b[0mtitle\u001b[0m\u001b[0;34m(\u001b[0m\u001b[0mtitle\u001b[0m\u001b[0;34m)\u001b[0m\u001b[0;34m\u001b[0m\u001b[0;34m\u001b[0m\u001b[0m\n\u001b[1;32m     12\u001b[0m     \u001b[0mplt\u001b[0m\u001b[0;34m.\u001b[0m\u001b[0mshow\u001b[0m\u001b[0;34m(\u001b[0m\u001b[0;34m)\u001b[0m\u001b[0;34m\u001b[0m\u001b[0;34m\u001b[0m\u001b[0m\n",
            "\u001b[0;32m/usr/local/lib/python3.9/dist-packages/matplotlib/pyplot.py\u001b[0m in \u001b[0;36mimshow\u001b[0;34m(X, cmap, norm, aspect, interpolation, alpha, vmin, vmax, origin, extent, interpolation_stage, filternorm, filterrad, resample, url, data, **kwargs)\u001b[0m\n\u001b[1;32m   2693\u001b[0m         \u001b[0minterpolation_stage\u001b[0m\u001b[0;34m=\u001b[0m\u001b[0;32mNone\u001b[0m\u001b[0;34m,\u001b[0m \u001b[0mfilternorm\u001b[0m\u001b[0;34m=\u001b[0m\u001b[0;32mTrue\u001b[0m\u001b[0;34m,\u001b[0m \u001b[0mfilterrad\u001b[0m\u001b[0;34m=\u001b[0m\u001b[0;36m4.0\u001b[0m\u001b[0;34m,\u001b[0m\u001b[0;34m\u001b[0m\u001b[0;34m\u001b[0m\u001b[0m\n\u001b[1;32m   2694\u001b[0m         resample=None, url=None, data=None, **kwargs):\n\u001b[0;32m-> 2695\u001b[0;31m     __ret = gca().imshow(\n\u001b[0m\u001b[1;32m   2696\u001b[0m         \u001b[0mX\u001b[0m\u001b[0;34m,\u001b[0m \u001b[0mcmap\u001b[0m\u001b[0;34m=\u001b[0m\u001b[0mcmap\u001b[0m\u001b[0;34m,\u001b[0m \u001b[0mnorm\u001b[0m\u001b[0;34m=\u001b[0m\u001b[0mnorm\u001b[0m\u001b[0;34m,\u001b[0m \u001b[0maspect\u001b[0m\u001b[0;34m=\u001b[0m\u001b[0maspect\u001b[0m\u001b[0;34m,\u001b[0m\u001b[0;34m\u001b[0m\u001b[0;34m\u001b[0m\u001b[0m\n\u001b[1;32m   2697\u001b[0m         \u001b[0minterpolation\u001b[0m\u001b[0;34m=\u001b[0m\u001b[0minterpolation\u001b[0m\u001b[0;34m,\u001b[0m \u001b[0malpha\u001b[0m\u001b[0;34m=\u001b[0m\u001b[0malpha\u001b[0m\u001b[0;34m,\u001b[0m \u001b[0mvmin\u001b[0m\u001b[0;34m=\u001b[0m\u001b[0mvmin\u001b[0m\u001b[0;34m,\u001b[0m\u001b[0;34m\u001b[0m\u001b[0;34m\u001b[0m\u001b[0m\n",
            "\u001b[0;32m/usr/local/lib/python3.9/dist-packages/matplotlib/__init__.py\u001b[0m in \u001b[0;36minner\u001b[0;34m(ax, data, *args, **kwargs)\u001b[0m\n\u001b[1;32m   1440\u001b[0m     \u001b[0;32mdef\u001b[0m \u001b[0minner\u001b[0m\u001b[0;34m(\u001b[0m\u001b[0max\u001b[0m\u001b[0;34m,\u001b[0m \u001b[0;34m*\u001b[0m\u001b[0margs\u001b[0m\u001b[0;34m,\u001b[0m \u001b[0mdata\u001b[0m\u001b[0;34m=\u001b[0m\u001b[0;32mNone\u001b[0m\u001b[0;34m,\u001b[0m \u001b[0;34m**\u001b[0m\u001b[0mkwargs\u001b[0m\u001b[0;34m)\u001b[0m\u001b[0;34m:\u001b[0m\u001b[0;34m\u001b[0m\u001b[0;34m\u001b[0m\u001b[0m\n\u001b[1;32m   1441\u001b[0m         \u001b[0;32mif\u001b[0m \u001b[0mdata\u001b[0m \u001b[0;32mis\u001b[0m \u001b[0;32mNone\u001b[0m\u001b[0;34m:\u001b[0m\u001b[0;34m\u001b[0m\u001b[0;34m\u001b[0m\u001b[0m\n\u001b[0;32m-> 1442\u001b[0;31m             \u001b[0;32mreturn\u001b[0m \u001b[0mfunc\u001b[0m\u001b[0;34m(\u001b[0m\u001b[0max\u001b[0m\u001b[0;34m,\u001b[0m \u001b[0;34m*\u001b[0m\u001b[0mmap\u001b[0m\u001b[0;34m(\u001b[0m\u001b[0msanitize_sequence\u001b[0m\u001b[0;34m,\u001b[0m \u001b[0margs\u001b[0m\u001b[0;34m)\u001b[0m\u001b[0;34m,\u001b[0m \u001b[0;34m**\u001b[0m\u001b[0mkwargs\u001b[0m\u001b[0;34m)\u001b[0m\u001b[0;34m\u001b[0m\u001b[0;34m\u001b[0m\u001b[0m\n\u001b[0m\u001b[1;32m   1443\u001b[0m \u001b[0;34m\u001b[0m\u001b[0m\n\u001b[1;32m   1444\u001b[0m         \u001b[0mbound\u001b[0m \u001b[0;34m=\u001b[0m \u001b[0mnew_sig\u001b[0m\u001b[0;34m.\u001b[0m\u001b[0mbind\u001b[0m\u001b[0;34m(\u001b[0m\u001b[0max\u001b[0m\u001b[0;34m,\u001b[0m \u001b[0;34m*\u001b[0m\u001b[0margs\u001b[0m\u001b[0;34m,\u001b[0m \u001b[0;34m**\u001b[0m\u001b[0mkwargs\u001b[0m\u001b[0;34m)\u001b[0m\u001b[0;34m\u001b[0m\u001b[0;34m\u001b[0m\u001b[0m\n",
            "\u001b[0;32m/usr/local/lib/python3.9/dist-packages/matplotlib/axes/_axes.py\u001b[0m in \u001b[0;36mimshow\u001b[0;34m(self, X, cmap, norm, aspect, interpolation, alpha, vmin, vmax, origin, extent, interpolation_stage, filternorm, filterrad, resample, url, **kwargs)\u001b[0m\n\u001b[1;32m   5663\u001b[0m                               **kwargs)\n\u001b[1;32m   5664\u001b[0m \u001b[0;34m\u001b[0m\u001b[0m\n\u001b[0;32m-> 5665\u001b[0;31m         \u001b[0mim\u001b[0m\u001b[0;34m.\u001b[0m\u001b[0mset_data\u001b[0m\u001b[0;34m(\u001b[0m\u001b[0mX\u001b[0m\u001b[0;34m)\u001b[0m\u001b[0;34m\u001b[0m\u001b[0;34m\u001b[0m\u001b[0m\n\u001b[0m\u001b[1;32m   5666\u001b[0m         \u001b[0mim\u001b[0m\u001b[0;34m.\u001b[0m\u001b[0mset_alpha\u001b[0m\u001b[0;34m(\u001b[0m\u001b[0malpha\u001b[0m\u001b[0;34m)\u001b[0m\u001b[0;34m\u001b[0m\u001b[0;34m\u001b[0m\u001b[0m\n\u001b[1;32m   5667\u001b[0m         \u001b[0;32mif\u001b[0m \u001b[0mim\u001b[0m\u001b[0;34m.\u001b[0m\u001b[0mget_clip_path\u001b[0m\u001b[0;34m(\u001b[0m\u001b[0;34m)\u001b[0m \u001b[0;32mis\u001b[0m \u001b[0;32mNone\u001b[0m\u001b[0;34m:\u001b[0m\u001b[0;34m\u001b[0m\u001b[0;34m\u001b[0m\u001b[0m\n",
            "\u001b[0;32m/usr/local/lib/python3.9/dist-packages/matplotlib/image.py\u001b[0m in \u001b[0;36mset_data\u001b[0;34m(self, A)\u001b[0m\n\u001b[1;32m    708\u001b[0m         if not (self._A.ndim == 2\n\u001b[1;32m    709\u001b[0m                 or self._A.ndim == 3 and self._A.shape[-1] in [3, 4]):\n\u001b[0;32m--> 710\u001b[0;31m             raise TypeError(\"Invalid shape {} for image data\"\n\u001b[0m\u001b[1;32m    711\u001b[0m                             .format(self._A.shape))\n\u001b[1;32m    712\u001b[0m \u001b[0;34m\u001b[0m\u001b[0m\n",
            "\u001b[0;31mTypeError\u001b[0m: Invalid shape (3, 228, 454) for image data"
          ]
        },
        {
          "output_type": "display_data",
          "data": {
            "text/plain": [
              "<Figure size 1500x700 with 1 Axes>"
            ],
            "image/png": "[encoded data removed]"
          },
          "metadata": {}
        }
      ]
    },
    {
      "cell_type": "code",
      "source": [
        "# def show_images(images, nmax=64):\n",
        "#     fig, ax = plt.subplots(figsize=(8, 8))\n",
        "#     ax.set_xticks([]); ax.set_yticks([])\n",
        "#     ax.imshow(make_grid((images.detach()[:nmax]), nrow=8).permute(1, 2, 0))\n",
        "# def show_batch(dl, nmax=64):\n",
        "#     for images in dl:\n",
        "#         show_images(images, nmax)\n",
        "#         break"
      ],
      "metadata": {
        "id": "UZXtRFcRgv9l"
      },
      "execution_count": null,
      "outputs": []
    },
    {
      "cell_type": "code",
      "source": [
        "# images_loader, sketches_loader = load_data()\n",
        "# show_batch(images_loader)"
      ],
      "metadata": {
        "colab": {
          "base_uri": "https://localhost:8080/",
          "height": 653
        },
        "id": "Qv01KgUdgvtm",
        "outputId": "9a51701a-1beb-4ff7-c697-6b0e6e0953f5"
      },
      "execution_count": null,
      "outputs": [
        {
          "output_type": "display_data",
          "data": {
            "text/plain": [
              "<Figure size 800x800 with 1 Axes>"
            ],
            "image/png": "[encoded data removed]"
          },
          "metadata": {}
        }
      ]
    },
    {
      "cell_type": "code",
      "source": [
        "image_dir = '/content/sketchdata/photo'\n",
        "sketch_dir = '/content/sketchdata/original_sketch'\n",
        "\n",
        "image_filenames = [name for name in os.listdir(image_dir) if os.path.splitext(name)[-1] == '.jpg']\n",
        "# image_files = np.load(dir)\n",
        "sketch_filenames = [name for name in os.listdir(sketch_dir) if os.path.splitext(name)[-1] == '.jpg']\n",
        "# sketch_files = np.load(dir)"
      ],
      "metadata": {
        "id": "NX0rm56JT7iN"
      },
      "execution_count": null,
      "outputs": []
    },
    {
      "cell_type": "code",
      "source": [
        "image_tensor = torch.stack(image_filenames)\n",
        "sketch_tensor = torch.stack(sketch_filenames)"
      ],
      "metadata": {
        "colab": {
          "base_uri": "https://localhost:8080/",
          "height": 183
        },
        "id": "210eAW_Pctqg",
        "outputId": "152624ff-4eff-4af2-88f9-ee26ac2f1b64"
      },
      "execution_count": null,
      "outputs": [
        {
          "output_type": "error",
          "ename": "TypeError",
          "evalue": "ignored",
          "traceback": [
            "\u001b[0;31m---------------------------------------------------------------------------\u001b[0m",
            "\u001b[0;31mTypeError\u001b[0m                                 Traceback (most recent call last)",
            "\u001b[0;32m<ipython-input-15-98421cc679e6>\u001b[0m in \u001b[0;36m<cell line: 1>\u001b[0;34m()\u001b[0m\n\u001b[0;32m----> 1\u001b[0;31m \u001b[0mimage_tensor\u001b[0m \u001b[0;34m=\u001b[0m \u001b[0mtorch\u001b[0m\u001b[0;34m.\u001b[0m\u001b[0mstack\u001b[0m\u001b[0;34m(\u001b[0m\u001b[0mimage_filenames\u001b[0m\u001b[0;34m)\u001b[0m\u001b[0;34m\u001b[0m\u001b[0;34m\u001b[0m\u001b[0m\n\u001b[0m\u001b[1;32m      2\u001b[0m \u001b[0msketch_tensor\u001b[0m \u001b[0;34m=\u001b[0m \u001b[0mtorch\u001b[0m\u001b[0;34m.\u001b[0m\u001b[0mstack\u001b[0m\u001b[0;34m(\u001b[0m\u001b[0msketch_filenames\u001b[0m\u001b[0;34m)\u001b[0m\u001b[0;34m\u001b[0m\u001b[0;34m\u001b[0m\u001b[0m\n",
            "\u001b[0;31mTypeError\u001b[0m: expected Tensor as element 0 in argument 0, but got str"
          ]
        }
      ]
    },
    {
      "cell_type": "markdown",
      "source": [],
      "metadata": {
        "id": "b85WlyC9KTp3"
      }
    },
    {
      "cell_type": "code",
      "source": [
        "class Generator(nn.Module):\n",
        "\n",
        "  def __init__(self):\n",
        "\n",
        "    super(Generator, self).__init__()\n",
        "\n",
        "    self.first_stage = torch.nn.Conv2d(224, 224, 32)\n",
        "\n",
        "    self.second_stage = torch.nn.Conv2d(28, 28, 256)\n",
        "    self.third_stage = torch.nn.Conv2d(56, 56, 128)\n",
        "    self.fourth_stage = torch.nn.Conv2d(112, 112, 64)\n",
        "    one = torch.nn.Conv2d(1,1)\n",
        "    three = torch.nn.Conv2d(3,3)\n",
        "    m = torch.nn.Upsample(scale_factor=2, mode='bilinear')\n",
        "\n",
        "\n",
        "  def forward(self, img):\n",
        "\n",
        "    feature_maps = []\n",
        "\n",
        "    output_img = torch.zeros(())\n",
        "\n",
        "    for i in range(1, N - 1):\n",
        "      f_m = feature_maps[i]\n",
        "      upsampled_fm = m(f_m)\n",
        "      f_m_1 = feature_maps[i + 1]\n",
        "      upsampled_fm = torch.cat((f_m, upsampled_fm))\n",
        "      ones_conv = one(upsampled_fm)\n",
        "      threes_conv = three(ones_conv)\n",
        "\n",
        "      feature_maps[i + 1] =  threes_conv\n",
        "\n",
        "\n",
        "    return feature_maps[-1]\n",
        "\n",
        "\n"
      ],
      "metadata": {
        "id": "rMZDWN7cJiRM"
      },
      "execution_count": null,
      "outputs": []
    },
    {
      "cell_type": "code",
      "source": [
        "class Discriminator(nn.Module):\n",
        "\n",
        "  def __init__(self):\n",
        "\n",
        "    self.first_layer = torch.nn.Conv2d(3, 32, 3, stride = 2, padding = 1)\n",
        "    self.batch1 = torch.nn.BatchNorm2d(32, eps=1e-10)\n",
        "    self.second_layer = torch.nn.Conv2d(32, 32, 3, stride = 2, padding = 1)\n",
        "    self.batch2 = torch.nn.BatchNorm2d(32, eps=1e-10)\n",
        "    self.third_layer = torch.nn.Conv2d(32, 64, 3, stride = 2, padding = 1)\n",
        "    self.batch3 = torch.nn.BatchNorm2d(64, eps=1e-10)\n",
        "    self.fourth_layer = torch.nn.Conv2d(64, 64, 3, stride = 2, padding = 1)\n",
        "    self.batch4 = torch.nn.BatchNorm2d(64, eps=1e-10)\n",
        "    self.fifth_layer = torch.nn.Conv2d(64, 128, 3, stride = 2, padding = 1)\n",
        "    self.batch5 = torch.nn.BatchNorm2d(128, eps=1e-10)\n",
        "    self.sixth_layer = torch.nn.Conv2d(128, 1, 3, stride = 1, padding = 1)\n",
        "    self.batch6 = torch.nn.BatchNorm2d(1, eps=1e-10)\n",
        "    self.sigmoid = torch.nn.sigmoid()\n",
        "  \n",
        "  def forward(self, img):\n",
        "\n",
        "    first = F.relu(self.batch1(self.first_layer(img)))\n",
        "    second = F.relu(self.batch2(self.second_layer(first)))\n",
        "    third = F.relu(self.batch3(self.third_layer(second)))\n",
        "    fourth = F.relu(self.batch4(self.fourth_layer(third)))\n",
        "    fifth = F.relu(self.batch5(self.fifth_layer(fourth)))\n",
        "    sixth = F.relu(self.batch6(self.sixth_layer(fifth)))\n",
        "    output = self.sigmoid(sixth)\n",
        "\n",
        "\n",
        "    return output\n"
      ],
      "metadata": {
        "id": "9ziLh2qChpz-"
      },
      "execution_count": null,
      "outputs": []
    },
    {
      "cell_type": "code",
      "source": [
        "from google.colab import drive\n",
        "drive.mount('/content/drive')"
      ],
      "metadata": {
        "id": "KcNX9p-BNtJr"
      },
      "execution_count": null,
      "outputs": []
    },
    {
      "cell_type": "code",
      "source": [],
      "metadata": {
        "id": "Rwxpi8WwCW3f"
      },
      "execution_count": null,
      "outputs": []
    }
  ]
}