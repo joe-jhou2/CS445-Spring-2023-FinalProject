{
  "cells": [
    {
      "cell_type": "code",
      "execution_count": null,
      "metadata": {
        "id": "4-pjzBlUJcYb"
      },
      "outputs": [
        {
          "ename": "",
          "evalue": "",
          "output_type": "error",
          "traceback": [
            "\u001b[1;31mRunning cells with '/bin/python3' requires the ipykernel package.\n",
            "\u001b[1;31mRun the following command to install 'ipykernel' into the Python environment. \n",
            "\u001b[1;31mCommand: '/bin/python3 -m pip install ipykernel -U --user --force-reinstall'"
          ]
        }
      ],
      "source": [
        "import os\n",
        "import torch\n",
        "import torch.optim as optim\n",
        "import torch.nn as nn\n",
        "import torch.nn.functional as F\n",
        "import torchvision.models as models\n",
        "from torch.utils.data import DataLoader, TensorDataset\n",
        "from torchvision.transforms import transforms\n",
        "from torch.utils.data import Dataset\n",
        "from PIL import Image\n",
        "import random\n",
        "import urllib.request\n",
        "import numpy as np\n",
        "import cv2\n",
        "from sklearn.model_selection import train_test_split"
      ]
    },
    {
      "cell_type": "code",
      "execution_count": 75,
      "metadata": {},
      "outputs": [],
      "source": [
        "def get_file_dataset(dir):\n",
        "    images = []\n",
        "\n",
        "    for root, _, fnames in sorted(os.walk(dir)):\n",
        "        for fname in fnames:\n",
        "            if os.path.isfile(os.path.join(dir, fname)) and fname.endswith('.jpg'):\n",
        "                path = os.path.join(root, fname)\n",
        "                images.append(path)\n",
        "\n",
        "    return images"
      ]
    },
    {
      "cell_type": "code",
      "execution_count": 76,
      "metadata": {},
      "outputs": [],
      "source": [
        "class ImageSketchDataset(Dataset):\n",
        "    def __init__(self, image_dir, sketch_dir):\n",
        "        self.image_dir = image_dir\n",
        "        self.sketch_dir = sketch_dir\n",
        "\n",
        "        self.image_files = sorted(get_file_dataset(image_dir))\n",
        "        self.sketch_files = sorted(get_file_dataset(sketch_dir))\n",
        "\n",
        "        # transform_list = [transforms.ToTensor(), transforms.Normalize((0.5, 0.5, 0.5),(0.5, 0.5, 0.5))] # RGB\n",
        "        transform_list = [transforms.ToTensor(), transforms.Normalize(mean=[0.5], std=[0.5])]\n",
        "        self.transform = transforms.Compose(transform_list)\n",
        "\n",
        "    def __len__(self):\n",
        "        return len(self.image_files)\n",
        "\n",
        "    def __getitem__(self, i):\n",
        "        image_path = self.image_files[i]\n",
        "        sketch_path = self.image_files[i]\n",
        "\n",
        "        image = Image.open(image_path).convert('L')\n",
        "        sketch = Image.open(sketch_path).convert('L')\n",
        "        \n",
        "        return {'image': self.transform(image), 'sketch': self.transform(sketch), 'image_path': image_path, 'sketch_path': sketch_path}"
      ]
    },
    {
      "cell_type": "code",
      "execution_count": 77,
      "metadata": {},
      "outputs": [],
      "source": [
        "# Set the path to the folder containing the images\n",
        "img_folder = './photos/'\n",
        "sketch_folder = './sketches/'\n",
        "\n",
        "dataset = ImageSketchDataset(img_folder, sketch_folder)\n",
        "\n",
        "# Split dataset\n",
        "train_set, val_set = train_test_split(dataset, test_size=0.2, random_state=42)\n",
        "\n",
        "# Params\n",
        "batch_size = 32\n",
        "\n",
        "# Create DataLoader objects for the training and validation sets\n",
        "train_loader = DataLoader(train_set, batch_size=batch_size, shuffle=True)\n",
        "valid_loader = DataLoader(val_set, batch_size=batch_size, shuffle=False)"
      ]
    },
    {
      "cell_type": "code",
      "execution_count": null,
      "metadata": {
        "id": "PsXjTo8xxi_P"
      },
      "outputs": [],
      "source": [
        "class GANLoss(nn.Module):\n",
        "    def __init__(self, use_lsgan=True, target_real_label=1.0, target_fake_label=0.0):\n",
        "        super(GANLoss, self).__init__()\n",
        "        self.fake_label_var = None\n",
        "        self.real_label_var = None\n",
        "        self.real_label = target_real_label\n",
        "        self.fake_label = target_fake_label\n",
        "        self.Tensor = torch.cuda.FloatTensor if torch.cuda.is_available() else torch.FloatTensor\n",
        "        if use_lsgan:\n",
        "            self.loss = nn.MSELoss()\n",
        "        else:\n",
        "            self.loss = nn.BCEWithLogitsLoss()\n",
        "\n",
        "    def get_target_tensor(self, input_img, target_is_real):\n",
        "        target_tensor = None\n",
        "        if target_is_real:\n",
        "            create_label = ((self.real_label_var is None) or\n",
        "                            (self.real_label_var.numel() != input_img.numel()))\n",
        "            if create_label:\n",
        "                real_tensor = self.Tensor(input_img.size()).fill_(self.real_label)\n",
        "                self.real_label_var = nn.Parameter(real_tensor, requires_grad=False)\n",
        "            target_tensor = self.real_label_var\n",
        "        else:\n",
        "            create_label = ((self.fake_label_var is None) or\n",
        "                            (self.fake_label_var.numel() != input_img.numel()))\n",
        "            if create_label:\n",
        "                fake_tensor = self.Tensor(input_img.size()).fill_(self.fake_label)\n",
        "                self.fake_label_var = nn.Parameter(fake_tensor, requires_grad=False)\n",
        "            target_tensor = self.fake_label_var\n",
        "        return target_tensor\n",
        "\n",
        "    def forward(self, input_img, target_is_real):\n",
        "        target_tensor = self.get_target_tensor(input_img, target_is_real)\n",
        "        return self.loss(input_img, target_tensor.expand_as(input_img))"
      ]
    },
    {
      "cell_type": "code",
      "execution_count": null,
      "metadata": {
        "id": "IBMK9WLNxm1t"
      },
      "outputs": [],
      "source": [
        "class PerceptualLoss(nn.Module):\n",
        "    def __init__(self, layers, weights, cuda):\n",
        "        super(PerceptualLoss, self).__init__()\n",
        "        self.layers = layers\n",
        "        self.weights = weights\n",
        "        self.vgg = models.VGG19(pretrained=True).features\n",
        "        if cuda:\n",
        "            self.vgg = self.vgg.cuda()\n",
        "        for param in self.vgg.parameters():\n",
        "            param.requires_grad = False\n",
        "\n",
        "    def forward(self, x, y):\n",
        "        x_vgg, y_vgg = self.vgg(x), self.vgg(y)\n",
        "        loss = 0\n",
        "        for i, layer in enumerate(self.layers):\n",
        "            loss += self.weights[i] * F.l1_loss(x_vgg[layer], y_vgg[layer])\n",
        "        return loss"
      ]
    },
    {
      "cell_type": "code",
      "execution_count": null,
      "metadata": {
        "id": "jyf3J01JxpSE"
      },
      "outputs": [],
      "source": [
        "class CycleConsistencyLoss(nn.Module):\n",
        "    def __init__(self):\n",
        "        super(CycleConsistencyLoss, self).__init__()\n",
        "\n",
        "    def forward(self, x, y, x_recon, y_recon):\n",
        "        return F.l1_loss(x, x_recon) + F.l1_loss(y, y_recon)"
      ]
    },
    {
      "cell_type": "code",
      "execution_count": null,
      "metadata": {
        "id": "WHadW7B-xtsg"
      },
      "outputs": [],
      "source": [
        "class IdentityLoss(nn.Module):\n",
        "    def __init__(self):\n",
        "        super(IdentityLoss, self).__init__()\n",
        "\n",
        "    def forward(self, x, y):\n",
        "        return F.l1_loss(x, y)"
      ]
    },
    {
      "cell_type": "code",
      "execution_count": null,
      "metadata": {
        "id": "KXaigbgwxwE4"
      },
      "outputs": [],
      "source": [
        "class PatchLoss(nn.Module):\n",
        "    def __init__(self):\n",
        "        super(PatchLoss, self).__init__()\n",
        "        self.loss = nn.L1Loss()\n",
        "\n",
        "    def get_masked_images(self, input, gt, gtsegmap, label):\n",
        "        i, j = np.where(gtsegmap == label)\n",
        "        mask = torch.zeros_like(gtsegmap, dtype=torch.float32)\n",
        "        mask[i, j] = 1.0\n",
        "        input_m = input * mask.cuda()\n",
        "        gt_m = gt * mask.cuda()\n",
        "        return input_m, gt_m\n",
        "\n",
        "    def forward(self, input, gt, gtsegmap, label):\n",
        "        gtsegmap = (gtsegmap + 1) * 5.0\n",
        "        input_m, gt_m = self.get_masked_images(input, gt, gtsegmap, label)\n",
        "        gt_m = gt_m.detach()\n",
        "        return self.loss(input_m, gt_m)"
      ]
    },
    {
      "cell_type": "code",
      "execution_count": null,
      "metadata": {
        "id": "NTryWGtwxyu2"
      },
      "outputs": [],
      "source": [
        "class FeatureMatchingLoss(nn.Module):\n",
        "    def __init__(self, device):\n",
        "        super(FeatureMatchingLoss, self).__init__()\n",
        "        self.vgg = VGGNet().to(device)\n",
        "        self.criterion = nn.L1Loss()\n",
        "\n",
        "    def forward(self, real_img, fake_img, D):\n",
        "        # Extract features from intermediate layers of the VGG network\n",
        "        real_features = self.vgg(real_img, D)\n",
        "        fake_features = self.vgg(fake_img, D)\n",
        "\n",
        "        # Calculate the L1 loss between the real and fake features\n",
        "        loss = 0\n",
        "        for i in range(len(real_features)):\n",
        "            loss += self.criterion(real_features[i], fake_features[i].detach())\n",
        "\n",
        "            return loss\n",
        "\n",
        "class VGGNet(nn.Module):\n",
        "        def __init__(self):\n",
        "            super(VGGNet, self).__init__()\n",
        "            self.layer1 = nn.Sequential(\n",
        "                nn.Conv2d(3, 64, kernel_size=3, padding=1),\n",
        "                nn.ReLU(),\n",
        "                nn.Conv2d(64, 64, kernel_size=3, padding=1),\n",
        "                nn.ReLU(),\n",
        "                nn.MaxPool2d(kernel_size=2, stride=2))\n",
        "            self.layer2 = nn.Sequential(\n",
        "                nn.Conv2d(64, 128, kernel_size=3, padding=1),\n",
        "                nn.ReLU(),\n",
        "                nn.Conv2d(128, 128, kernel_size=3, padding=1),\n",
        "                nn.ReLU(),\n",
        "                nn.MaxPool2d(kernel_size=2, stride=2))\n",
        "            self.layer3 = nn.Sequential(\n",
        "                nn.Conv2d(128, 256, kernel_size=3, padding=1),\n",
        "                nn.ReLU(),\n",
        "                nn.Conv2d(256, 256, kernel_size=3, padding=1),\n",
        "                nn.ReLU(),\n",
        "                nn.Conv2d(256, 256, kernel_size=3, padding=1),\n",
        "                nn.ReLU(),\n",
        "                nn.MaxPool2d(kernel_size=2, stride=2))\n",
        "            self.layer4 = nn.Sequential(\n",
        "                nn.Conv2d(256, 512, kernel_size=3, padding=1),\n",
        "                nn.ReLU(),\n",
        "                nn.Conv2d(512, 512, kernel_size=3, padding=1),\n",
        "                nn.ReLU(),\n",
        "                nn.Conv2d(512, 512, kernel_size=3, padding=1),\n",
        "                nn.ReLU(),\n",
        "                nn.MaxPool2d(kernel_size=2, stride=2))\n",
        "            self.layer5 = nn.Sequential(\n",
        "                nn.Conv2d(512, 512, kernel_size=3, padding=1),\n",
        "                nn.ReLU(),\n",
        "                nn.Conv2d(512, 512, kernel_size=3, padding=1),\n",
        "                nn.ReLU(),\n",
        "                nn.Conv2d(512, 512, kernel_size=3, padding=1),\n",
        "                nn.ReLU(),\n",
        "                nn.MaxPool2d(kernel_size=2, stride=2))\n",
        "            self.layer6 = nn.Sequential(\n",
        "                nn.Linear(25088, 4096),\n",
        "                nn.ReLU(),\n",
        "                nn.Dropout(),\n",
        "                nn.Linear(4096, 4096),\n",
        "                nn.ReLU(),\n",
        "                nn.Dropout(),\n",
        "                nn.Linear(4096, 1000),\n",
        "                nn.ReLU())\n",
        "\n",
        "        def forward(self, x, D):\n",
        "            if D == 0:\n",
        "                x = self.layer1(x)\n",
        "                x = self.layer2(x)\n",
        "                x = self.layer3(x)\n",
        "                x = self.layer4(x)\n",
        "                x = self.layer5(x)\n",
        "            else:\n",
        "                for i in range(D):\n",
        "                    x = getattr(self, 'layer{}'.format(i + 1))(x)\n",
        "            x = x.view(x.size(0), -1)\n",
        "            x = self.layer6(x)\n",
        "            return x"
      ]
    },
    {
      "cell_type": "code",
      "execution_count": null,
      "metadata": {
        "id": "rMZDWN7cJiRM"
      },
      "outputs": [],
      "source": [
        "class Generator(nn.Module):\n",
        "  def __init__(self):\n",
        "\n",
        "    super(Generator, self).__init__()\n",
        "\n",
        "    self.first_stage = torch.nn.Conv2d(224, 224, 32)\n",
        "\n",
        "    self.second_stage = torch.nn.Conv2d(28, 28, 256)\n",
        "    self.third_stage = torch.nn.Conv2d(56, 56, 128)\n",
        "    self.fourth_stage = torch.nn.Conv2d(112, 112, 64)\n",
        "    one = torch.nn.Conv2d(1,1)\n",
        "    three = torch.nn.Conv2d(3,3)\n",
        "    m = torch.nn.Upsample(scale_factor=2, mode='bilinear')\n",
        "\n",
        "\n",
        "  def forward(self, img):\n",
        "    feature_maps = []\n",
        "\n",
        "    output_img = torch.zeros(())\n",
        "\n",
        "    for i in range(1, N - 1):\n",
        "      f_m = feature_maps[i]\n",
        "      upsampled_fm = m(f_m)\n",
        "      f_m_1 = feature_maps[i + 1]\n",
        "      upsampled_fm = torch.cat((f_m, upsampled_fm))\n",
        "      ones_conv = one(upsampled_fm)\n",
        "      threes_conv = three(ones_conv)\n",
        "\n",
        "      feature_maps[i + 1] =  threes_conv\n",
        "\n",
        "\n",
        "    return feature_maps[-1]\n",
        "\n",
        "\n"
      ]
    },
    {
      "cell_type": "code",
      "execution_count": null,
      "metadata": {
        "id": "9ziLh2qChpz-"
      },
      "outputs": [],
      "source": [
        "class Discriminator(nn.Module):\n",
        "  def __init__(self):\n",
        "\n",
        "    self.first_layer = torch.nn.Conv2d(3, 32, 3, stride = 2, padding = 1)\n",
        "    self.batch1 = torch.nn.BatchNorm2d(32, eps=1e-10)\n",
        "    self.second_layer = torch.nn.Conv2d(32, 32, 3, stride = 2, padding = 1)\n",
        "    self.batch2 = torch.nn.BatchNorm2d(32, eps=1e-10)\n",
        "    self.third_layer = torch.nn.Conv2d(32, 64, 3, stride = 2, padding = 1)\n",
        "    self.batch3 = torch.nn.BatchNorm2d(64, eps=1e-10)\n",
        "    self.fourth_layer = torch.nn.Conv2d(64, 64, 3, stride = 2, padding = 1)\n",
        "    self.batch4 = torch.nn.BatchNorm2d(64, eps=1e-10)\n",
        "    self.fifth_layer = torch.nn.Conv2d(64, 128, 3, stride = 2, padding = 1)\n",
        "    self.batch5 = torch.nn.BatchNorm2d(128, eps=1e-10)\n",
        "    self.sixth_layer = torch.nn.Conv2d(128, 1, 3, stride = 1, padding = 1)\n",
        "    self.batch6 = torch.nn.BatchNorm2d(1, eps=1e-10)\n",
        "    self.sigmoid = torch.nn.sigmoid()\n",
        "\n",
        "  def forward(self, img):\n",
        "    first = F.relu(self.batch1(self.first_layer(img)))\n",
        "    second = F.relu(self.batch2(self.second_layer(first)))\n",
        "    third = F.relu(self.batch3(self.third_layer(second)))\n",
        "    fourth = F.relu(self.batch4(self.fourth_layer(third)))\n",
        "    fifth = F.relu(self.batch5(self.fifth_layer(fourth)))\n",
        "    sixth = F.relu(self.batch6(self.sixth_layer(fifth)))\n",
        "    output = self.sigmoid(sixth)\n",
        "\n",
        "\n",
        "    return output\n"
      ]
    }
  ],
  "metadata": {
    "colab": {
      "provenance": []
    },
    "kernelspec": {
      "display_name": "Python 3",
      "name": "python3"
    },
    "language_info": {
      "codemirror_mode": {
        "name": "ipython",
        "version": 3
      },
      "file_extension": ".py",
      "mimetype": "text/x-python",
      "name": "python",
      "nbconvert_exporter": "python",
      "pygments_lexer": "ipython3",
      "version": "3.8.10"
    }
  },
  "nbformat": 4,
  "nbformat_minor": 0
}
